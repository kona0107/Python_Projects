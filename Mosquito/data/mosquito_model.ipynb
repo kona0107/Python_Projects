{
 "cells": [
  {
   "cell_type": "code",
   "execution_count": 3,
   "metadata": {},
   "outputs": [],
   "source": [
    "# Importing additional libraries for statistical analysis and visualization\n",
    "import numpy as np\n",
    "import pandas as pd\n",
    "import matplotlib.pyplot as plt\n",
    "import pandas as pd\n",
    "from sklearn.model_selection import train_test_split, KFold\n",
    "from sklearn.ensemble import RandomForestRegressor, GradientBoostingRegressor\n",
    "from sklearn.metrics import mean_squared_error, r2_score\n",
    "from xgboost import XGBRegressor\n",
    "from lightgbm import LGBMRegressor\n",
    "from skopt import BayesSearchCV\n",
    "from math import sqrt\n",
    "from sklearn.preprocessing import MinMaxScaler\n",
    "import matplotlib.pyplot as plt\n",
    "import seaborn as sns\n",
    "import os\n",
    "from glob import glob\n",
    "from sklearn.model_selection import TimeSeriesSplit\n",
    "import joblib"
   ]
  },
  {
   "cell_type": "code",
   "execution_count": 16,
   "metadata": {},
   "outputs": [
    {
     "name": "stdout",
     "output_type": "stream",
     "text": [
      "Q1: 12.0, Q3: 53.0\n",
      "이상치 제거 전 데이터 개수: 78909, 이상치 제거 후 데이터 개수: 72171\n"
     ]
    }
   ],
   "source": [
    "import pandas as pd\n",
    "\n",
    "path = r'F:\\박정현\\ML\\Mosquito\\final\\2015_2024_total.xlsx'\n",
    "df = pd.read_excel(path, engine='openpyxl')\n",
    "\n",
    "# IQR 계산\n",
    "Q1_Mosquitoe = df['mosquito'].quantile(0.25)\n",
    "Q3_Mosquitoe = df['mosquito'].quantile(0.75)\n",
    "IQR_Mosquitoe = Q3_Mosquitoe - Q1_Mosquitoe\n",
    "lower_bound_Mosquitoe = Q1_Mosquitoe - 1.5 * IQR_Mosquitoe\n",
    "upper_bound_Mosquitoe = Q3_Mosquitoe + 1.5 * IQR_Mosquitoe\n",
    "\n",
    "# 이상치 제거\n",
    "df_iqr = df[(df['mosquito'] >= lower_bound_Mosquitoe) & (df['mosquito'] <= upper_bound_Mosquitoe)]\n",
    "\n",
    "# 결과 출력\n",
    "print(f\"Q1: {Q1_Mosquitoe}, Q3: {Q3_Mosquitoe}\")\n",
    "print(f\"이상치 제거 전 데이터 개수: {len(df)}, 이상치 제거 후 데이터 개수: {len(df_iqr)}\")\n"
   ]
  },
  {
   "cell_type": "code",
   "execution_count": 19,
   "metadata": {},
   "outputs": [
    {
     "name": "stdout",
     "output_type": "stream",
     "text": [
      "DATE                   datetime64[ns]\n",
      "DMS_CODE                       object\n",
      "std_name                       object\n",
      "TMP                           float64\n",
      "TMAX                          float64\n",
      "TMIN                          float64\n",
      "PCP                           float64\n",
      "HUM                           float64\n",
      "WS                            float64\n",
      "Temp_1_monthly_mean           float64\n",
      "Temp_1_yearly_mean            float64\n",
      "DMS_open_1m                     int64\n",
      "DMS_open_3m                     int64\n",
      "DMS_open_5m                     int64\n",
      "DMS_open_10m                    int64\n",
      "Env_Factors_1m                  int64\n",
      "Env_Factors_3m                  int64\n",
      "Env_Factors_5m                  int64\n",
      "Env_Factors_10m                 int64\n",
      "landscape                       int64\n",
      "mosquito                        int64\n",
      "dtype: object\n"
     ]
    }
   ],
   "source": [
    "print(df_iqr.dtypes)\n"
   ]
  },
  {
   "cell_type": "code",
   "execution_count": 20,
   "metadata": {},
   "outputs": [],
   "source": [
    "import pandas as pd\n",
    "from sklearn.preprocessing import MinMaxScaler\n",
    "\n",
    "# Train-Test 분리\n",
    "train = df_iqr[df_iqr['DATE'] <= '2023-10-31']\n",
    "test = df_iqr[df_iqr['DATE'] >= '2024-04-01']\n",
    "\n",
    "# 날짜(datetime64) 컬럼 제거\n",
    "if 'DATE' in train.columns:\n",
    "    train = train.drop(columns=['DATE'])\n",
    "    test = test.drop(columns=['DATE'])\n",
    "\n",
    "# 범주형(object) 데이터 제거\n",
    "train = train.drop(columns=train.select_dtypes(include=['object']).columns)\n",
    "test = test.drop(columns=test.select_dtypes(include=['object']).columns)\n",
    "\n",
    "# MinMaxScaler 적용\n",
    "scaler = MinMaxScaler()\n",
    "train_scaled = pd.DataFrame(scaler.fit_transform(train), columns=train.columns)\n",
    "test_scaled = pd.DataFrame(scaler.transform(test), columns=test.columns)\n",
    "\n",
    "# 독립 변수(X)와 종속 변수(y) 분리\n",
    "X_train = train_scaled.drop(columns=['mosquito'])\n",
    "y_train = train_scaled['mosquito']\n",
    "\n",
    "X_test = test_scaled.drop(columns=['mosquito'])\n",
    "y_test = test_scaled['mosquito']\n"
   ]
  }
 ],
 "metadata": {
  "kernelspec": {
   "display_name": "Python 3",
   "language": "python",
   "name": "python3"
  },
  "language_info": {
   "codemirror_mode": {
    "name": "ipython",
    "version": 3
   },
   "file_extension": ".py",
   "mimetype": "text/x-python",
   "name": "python",
   "nbconvert_exporter": "python",
   "pygments_lexer": "ipython3",
   "version": "3.11.9"
  }
 },
 "nbformat": 4,
 "nbformat_minor": 2
}
